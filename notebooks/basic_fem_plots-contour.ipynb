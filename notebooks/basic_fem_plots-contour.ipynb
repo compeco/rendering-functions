{
 "metadata": {
  "name": "",
  "signature": "sha256:7793865d4790bd1df298cd0d0529dc027504fc2f9d35fe39f7af483a5e9898e3"
 },
 "nbformat": 3,
 "nbformat_minor": 0,
 "worksheets": [
  {
   "cells": [
    {
     "cell_type": "code",
     "collapsed": false,
     "input": [
      "%matplotlib  inline\n",
      "#this is a comment - yay\n",
      "from matplotlib import pyplot as plt\n",
      "import  numpy as np"
     ],
     "language": "python",
     "metadata": {},
     "outputs": []
    },
    {
     "cell_type": "code",
     "collapsed": false,
     "input": [
      "vertices = np.array([[0.0,0.0],[0.0,1.0],[1.0,0.0],[1.0,-0.5]],'d')\n",
      "elements = np.array([[0,1,2],[0,2,3]])\n",
      "C = vertices[:,0]**2\n",
      "print vertices.shape, elements.shape"
     ],
     "language": "python",
     "metadata": {},
     "outputs": []
    },
    {
     "cell_type": "code",
     "collapsed": false,
     "input": [
      "fig,ax = plt.subplots()\n",
      "ax.triplot(vertices[:,0],vertices[:,1],elements)"
     ],
     "language": "python",
     "metadata": {},
     "outputs": []
    },
    {
     "cell_type": "code",
     "collapsed": false,
     "input": [
      "C = vertices[:,0]**2\n",
      "fig, ax = plt.subplots()\n",
      "ax.tricontour(vertices[:,0],vertices[:,1],elements,C)"
     ],
     "language": "python",
     "metadata": {},
     "outputs": []
    },
    {
     "cell_type": "code",
     "collapsed": false,
     "input": [],
     "language": "python",
     "metadata": {},
     "outputs": []
    }
   ],
   "metadata": {}
  }
 ]
}