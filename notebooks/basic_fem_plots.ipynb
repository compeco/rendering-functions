{
 "metadata": {
  "name": "",
  "signature": "sha256:f6fd4e26f8579624e75c61ddaee9691899f32579c5921b182c270b5579bd2c36"
 },
 "nbformat": 3,
 "nbformat_minor": 0,
 "worksheets": [
  {
   "cells": [
    {
     "cell_type": "code",
     "collapsed": false,
     "input": [
      "%matplotlib  inline\n",
      "from matplotlib import pyplot as plt\n",
      "import  numpy as np"
     ],
     "language": "python",
     "metadata": {},
     "outputs": []
    },
    {
     "cell_type": "code",
     "collapsed": false,
     "input": [
      "vertices = np.array([[0.0,0.0],[0.0,1.0],[1.0,0.0],[1.0,-0.5]],'d')\n",
      "elements = np.array([[0,1,2],[0,2,3]])\n",
      "C = vertices[:,0]**2\n",
      "print vertices.shape, elements.shape"
     ],
     "language": "python",
     "metadata": {},
     "outputs": []
    },
    {
     "cell_type": "code",
     "collapsed": false,
     "input": [
      "fig,ax = plt.subplots()\n",
      "ax.triplot(vertices[:,0],vertices[:,1],elements)"
     ],
     "language": "python",
     "metadata": {},
     "outputs": []
    },
    {
     "cell_type": "code",
     "collapsed": false,
     "input": [
      "C = vertices[:,0]**2\n",
      "fig, ax = plt.subplots()\n",
      "ax.tricontourf(vertices[:,0],vertices[:,1],elements,C)"
     ],
     "language": "python",
     "metadata": {},
     "outputs": []
    }
   ],
   "metadata": {}
  }
 ]
}