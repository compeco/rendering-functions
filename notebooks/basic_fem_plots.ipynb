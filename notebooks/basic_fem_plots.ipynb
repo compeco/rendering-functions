{
 "metadata": {
  "name": "",
  "signature": "sha256:2f89d95ffc23f666a9932b36806dd5631472b546c7bf6af1d46ced1037bc24ee"
 },
 "nbformat": 3,
 "nbformat_minor": 0,
 "worksheets": [
  {
   "cells": [
    {
     "cell_type": "code",
     "collapsed": false,
     "input": [
      "%matplotlib  inline\n",
      "from matplotlib import pyplot as plt\n",
      "import  numpy as np"
     ],
     "language": "python",
     "metadata": {},
     "outputs": []
    },
    {
     "cell_type": "code",
     "collapsed": false,
     "input": [
      "vertices = np.array([[0.0,0.0],[0.0,1.0],[1.0,0.0],[1.0,-0.5]],'d')\n",
      "elements = np.array([[0,1,2],[0,2,3]])\n",
      "C = vertices[:,0]**2\n",
      "print vertices.shape, elements.shape"
     ],
     "language": "python",
     "metadata": {},
     "outputs": []
    },
    {
     "cell_type": "code",
     "collapsed": false,
     "input": [
      "fig,ax = plt.subplots()\n",
      "ax.triplot(vertices[:,0],vertices[:,1],elements)"
     ],
     "language": "python",
     "metadata": {},
     "outputs": []
    },
    {
     "cell_type": "code",
     "collapsed": false,
     "input": [
      "C = vertices[:,0]**2\n",
      "fig, ax = plt.subplots()\n",
      "ax.tricontourf(vertices[:,0],vertices[:,1],elements,C,linewidth=4,linestyles='solid',edgecolors='k')"
     ],
     "language": "python",
     "metadata": {},
     "outputs": []
    },
    {
     "cell_type": "code",
     "collapsed": false,
     "input": [
      "fig, ax = plt.subplots()\n",
      "ax.tripcolor(vertices[:,0],vertices[:,1],elements,C,edgecolors='k')"
     ],
     "language": "python",
     "metadata": {},
     "outputs": []
    }
   ],
   "metadata": {}
  }
 ]
}