{
 "metadata": {
  "name": "",
  "signature": "sha256:b47e72da25605674e3b59460e1acfb67e6eb61e3c4531d7e9155a8de117be32d"
 },
 "nbformat": 3,
 "nbformat_minor": 0,
 "worksheets": [
  {
   "cells": [
    {
     "cell_type": "code",
     "collapsed": false,
     "input": [
      "%matplotlib  inline\n",
      "from matplotlib import pyplot as plt\n",
      "import  numpy as np"
     ],
     "language": "python",
     "metadata": {},
     "outputs": []
    },
    {
     "cell_type": "code",
     "collapsed": false,
     "input": [
      "vertices = np.array([[0.0,0.0],[0.0,1.0],[1.0,0.0],[1.0,-0.5]],'d')\n",
      "elements = np.array([[0,1,2],[0,2,3]])\n",
      "C = vertices[:,0]**2\n",
      "print vertices.shape, elements.shape"
     ],
     "language": "python",
     "metadata": {},
     "outputs": []
    },
    {
     "cell_type": "code",
     "collapsed": false,
     "input": [
      "fig,ax = plt.subplots()\n",
      "ax.triplot(vertices[:,0],vertices[:,1],elements)"
     ],
     "language": "python",
     "metadata": {},
     "outputs": []
    },
    {
     "cell_type": "code",
     "collapsed": false,
     "input": [
      "C = vertices[:,0]**2\n",
      "fig, ax = plt.subplots()\n",
      "ax.tricontourf(vertices[:,0],vertices[:,1],elements,C,linewidth=4,linestyles='solid',edgecolors='k')\n",
      "#ax.tripcolor(vertices[:,0],vertices[:,1],elements,C,edgecolors='k')\n",
      "#ax.annotate('IMAGE ERROR', fontsize=22,xy=(0.5, 1.), xytext=(0.5,1.))"
     ],
     "language": "python",
     "metadata": {},
     "outputs": []
    }
   ],
   "metadata": {}
  }
 ]
}